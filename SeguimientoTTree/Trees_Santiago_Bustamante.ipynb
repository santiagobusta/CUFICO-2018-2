{
 "cells": [
  {
   "cell_type": "code",
   "execution_count": 1,
   "metadata": {
    "colab": {
     "base_uri": "https://localhost:8080/",
     "height": 34
    },
    "colab_type": "code",
    "executionInfo": {
     "elapsed": 179197,
     "status": "ok",
     "timestamp": 1551190811923,
     "user": {
      "displayName": "JOSE DAVID RUIZ ALVAREZ",
      "photoUrl": "https://lh4.googleusercontent.com/-LnBHsMGluzQ/AAAAAAAAAAI/AAAAAAAAB6o/vjRl7O5FS_o/s64/photo.jpg",
      "userId": "05687608758618215160"
     },
     "user_tz": 300
    },
    "id": "lTFxGdo6v-vn",
    "outputId": "21bf0f01-09c1-49bd-dbb9-8b440c7efa8b"
   },
   "outputs": [
    {
     "name": "stdout",
     "output_type": "stream",
     "text": [
      "Welcome to JupyROOT 6.17/01\n"
     ]
    }
   ],
   "source": [
    "import ROOT"
   ]
  },
  {
   "cell_type": "code",
   "execution_count": 2,
   "metadata": {
    "colab": {},
    "colab_type": "code",
    "id": "37Y0ocYtMbCx"
   },
   "outputs": [],
   "source": [
    "from array import array"
   ]
  },
  {
   "cell_type": "code",
   "execution_count": 3,
   "metadata": {
    "colab": {},
    "colab_type": "code",
    "id": "vjAXfvIGaE3W"
   },
   "outputs": [],
   "source": [
    "MyTree = ROOT.TTree( 'tree1', 'Tree seguimiento')"
   ]
  },
  {
   "cell_type": "code",
   "execution_count": 4,
   "metadata": {
    "colab": {},
    "colab_type": "code",
    "id": "sG5v0wEBaeOI"
   },
   "outputs": [],
   "source": [
    "x = array( 'f', [ 0. ] )\n",
    "y = array( 'f', [ 0. ] )\n",
    "z = array( 'f', [ 0. ] )#arreglo de floats de dimension 1"
   ]
  },
  {
   "cell_type": "code",
   "execution_count": 5,
   "metadata": {
    "colab": {
     "base_uri": "https://localhost:8080/",
     "height": 34
    },
    "colab_type": "code",
    "executionInfo": {
     "elapsed": 618,
     "status": "ok",
     "timestamp": 1551191253370,
     "user": {
      "displayName": "JOSE DAVID RUIZ ALVAREZ",
      "photoUrl": "https://lh4.googleusercontent.com/-LnBHsMGluzQ/AAAAAAAAAAI/AAAAAAAAB6o/vjRl7O5FS_o/s64/photo.jpg",
      "userId": "05687608758618215160"
     },
     "user_tz": 300
    },
    "id": "TFR5T97ScgnG",
    "outputId": "82c4770d-2898-46cc-8039-b9b06b45066c"
   },
   "outputs": [
    {
     "data": {
      "text/plain": [
       "<ROOT.TBranch object (\"z\") at 0x560456326030>"
      ]
     },
     "execution_count": 5,
     "metadata": {},
     "output_type": "execute_result"
    }
   ],
   "source": [
    "MyTree.Branch( 'x', x, 'x/F' )\n",
    "MyTree.Branch( 'y', y, 'y/F' )\n",
    "MyTree.Branch( 'z', z, 'z/F')"
   ]
  },
  {
   "cell_type": "code",
   "execution_count": 6,
   "metadata": {
    "colab": {},
    "colab_type": "code",
    "id": "qmKR6xLioJOa"
   },
   "outputs": [],
   "source": [
    "from random import gauss, uniform"
   ]
  },
  {
   "cell_type": "code",
   "execution_count": 7,
   "metadata": {
    "colab": {},
    "colab_type": "code",
    "id": "FKgIQBuJehRQ"
   },
   "outputs": [],
   "source": [
    "for i in range(5000):\n",
    "      x[0] = gauss(5,5)\n",
    "      y[0] = gauss(5,5)\n",
    "      z[0] = uniform(0, 10)\n",
    "      MyTree.Fill()\n"
   ]
  },
  {
   "cell_type": "code",
   "execution_count": 8,
   "metadata": {
    "colab": {
     "base_uri": "https://localhost:8080/",
     "height": 906
    },
    "colab_type": "code",
    "executionInfo": {
     "elapsed": 546,
     "status": "ok",
     "timestamp": 1551192444571,
     "user": {
      "displayName": "JOSE DAVID RUIZ ALVAREZ",
      "photoUrl": "https://lh4.googleusercontent.com/-LnBHsMGluzQ/AAAAAAAAAAI/AAAAAAAAB6o/vjRl7O5FS_o/s64/photo.jpg",
      "userId": "05687608758618215160"
     },
     "user_tz": 300
    },
    "id": "9IKqWq1HepEb",
    "outputId": "1796e715-5757-46d8-8c4c-829d730268d1"
   },
   "outputs": [],
   "source": [
    "c1 = ROOT.TCanvas( 'c1', 'My First Data example', 200, 10, 300, 300 )\n",
    "c1.SetFillColor( 18 )"
   ]
  },
  {
   "cell_type": "code",
   "execution_count": 9,
   "metadata": {
    "colab": {
     "base_uri": "https://localhost:8080/",
     "height": 906
    },
    "colab_type": "code",
    "executionInfo": {
     "elapsed": 546,
     "status": "ok",
     "timestamp": 1551192444571,
     "user": {
      "displayName": "JOSE DAVID RUIZ ALVAREZ",
      "photoUrl": "https://lh4.googleusercontent.com/-LnBHsMGluzQ/AAAAAAAAAAI/AAAAAAAAB6o/vjRl7O5FS_o/s64/photo.jpg",
      "userId": "05687608758618215160"
     },
     "user_tz": 300
    },
    "id": "9IKqWq1HepEb",
    "outputId": "1796e715-5757-46d8-8c4c-829d730268d1",
    "scrolled": true
   },
   "outputs": [
    {
     "data": {
      "image/png": "[encoded data removed]",
      "text/plain": [
       "<IPython.core.display.Image object>"
      ]
     },
     "metadata": {},
     "output_type": "display_data"
    }
   ],
   "source": [
    "MyTree.Draw(\"x>>h1(10,-2,12)\")\n",
    "c1.Update()\n",
    "c1.Draw()"
   ]
  },
  {
   "cell_type": "code",
   "execution_count": 10,
   "metadata": {
    "colab": {
     "base_uri": "https://localhost:8080/",
     "height": 889
    },
    "colab_type": "code",
    "executionInfo": {
     "elapsed": 672,
     "status": "ok",
     "timestamp": 1551192500169,
     "user": {
      "displayName": "JOSE DAVID RUIZ ALVAREZ",
      "photoUrl": "https://lh4.googleusercontent.com/-LnBHsMGluzQ/AAAAAAAAAAI/AAAAAAAAB6o/vjRl7O5FS_o/s64/photo.jpg",
      "userId": "05687608758618215160"
     },
     "user_tz": 300
    },
    "id": "W1VkyrH6Rbua",
    "outputId": "7167fd44-d663-4a4d-87a1-1e3fc628130c"
   },
   "outputs": [
    {
     "data": {
      "image/png": "[encoded data removed]",
      "text/plain": [
       "<IPython.core.display.Image object>"
      ]
     },
     "metadata": {},
     "output_type": "display_data"
    }
   ],
   "source": [
    "MyTree.Draw(\"y>>h2(10,-2,12)\")\n",
    "c1.Update()\n",
    "c1.Draw()"
   ]
  },
  {
   "cell_type": "code",
   "execution_count": 11,
   "metadata": {
    "colab": {
     "base_uri": "https://localhost:8080/",
     "height": 889
    },
    "colab_type": "code",
    "executionInfo": {
     "elapsed": 488,
     "status": "ok",
     "timestamp": 1551192568220,
     "user": {
      "displayName": "JOSE DAVID RUIZ ALVAREZ",
      "photoUrl": "https://lh4.googleusercontent.com/-LnBHsMGluzQ/AAAAAAAAAAI/AAAAAAAAB6o/vjRl7O5FS_o/s64/photo.jpg",
      "userId": "05687608758618215160"
     },
     "user_tz": 300
    },
    "id": "BCy0kKWfRyTX",
    "outputId": "1bde0a72-672f-4c75-dbd0-ad93ce2da167"
   },
   "outputs": [
    {
     "data": {
      "image/png": "[encoded data removed]",
      "text/plain": [
       "<IPython.core.display.Image object>"
      ]
     },
     "metadata": {},
     "output_type": "display_data"
    }
   ],
   "source": [
    "MyTree.Draw(\"z>>h3(10,-2,12)\")\n",
    "c1.Update()\n",
    "c1.Draw()"
   ]
  },
  {
   "cell_type": "code",
   "execution_count": 12,
   "metadata": {
    "colab": {
     "base_uri": "https://localhost:8080/",
     "height": 889
    },
    "colab_type": "code",
    "executionInfo": {
     "elapsed": 532,
     "status": "ok",
     "timestamp": 1551192900664,
     "user": {
      "displayName": "JOSE DAVID RUIZ ALVAREZ",
      "photoUrl": "https://lh4.googleusercontent.com/-LnBHsMGluzQ/AAAAAAAAAAI/AAAAAAAAB6o/vjRl7O5FS_o/s64/photo.jpg",
      "userId": "05687608758618215160"
     },
     "user_tz": 300
    },
    "id": "Y9hCiyYPTH55",
    "outputId": "60fdb3a0-0e99-4e73-d222-6ba404957003"
   },
   "outputs": [
    {
     "data": {
      "image/png": "[encoded data removed]",
      "text/plain": [
       "<IPython.core.display.Image object>"
      ]
     },
     "metadata": {},
     "output_type": "display_data"
    }
   ],
   "source": [
    "MyTree.Draw(\"x*y>>h4(50,-50,100)\")\n",
    "c1.Update()\n",
    "c1.Draw()"
   ]
  },
  {
   "cell_type": "code",
   "execution_count": 13,
   "metadata": {},
   "outputs": [
    {
     "data": {
      "image/png": "[encoded data removed]",
      "text/plain": [
       "<IPython.core.display.Image object>"
      ]
     },
     "metadata": {},
     "output_type": "display_data"
    }
   ],
   "source": [
    "MyTree.Draw(\"x*z>>h5(50,-50,100)\")\n",
    "c1.Update()\n",
    "c1.Draw()"
   ]
  },
  {
   "cell_type": "code",
   "execution_count": 14,
   "metadata": {},
   "outputs": [
    {
     "data": {
      "image/png": "[encoded data removed]",
      "text/plain": [
       "<IPython.core.display.Image object>"
      ]
     },
     "metadata": {},
     "output_type": "display_data"
    }
   ],
   "source": [
    "MyTree.Draw(\"x*y*z>>h6(50,-500,1000)\")\n",
    "c1.Update()\n",
    "c1.Draw()"
   ]
  },
  {
   "cell_type": "code",
   "execution_count": 26,
   "metadata": {},
   "outputs": [
    {
     "data": {
      "image/png": "[encoded data removed]",
      "text/plain": [
       "<IPython.core.display.Image object>"
      ]
     },
     "metadata": {},
     "output_type": "display_data"
    }
   ],
   "source": [
    "MyTree.Draw(\"x>>h7(10,-2,12)\", \"4.5<z & z>5.5\")\n",
    "c1.Update()\n",
    "c1.Draw()"
   ]
  },
  {
   "cell_type": "code",
   "execution_count": 42,
   "metadata": {},
   "outputs": [
    {
     "data": {
      "image/png": "[encoded data removed]",
      "text/plain": [
       "<IPython.core.display.Image object>"
      ]
     },
     "metadata": {},
     "output_type": "display_data"
    }
   ],
   "source": [
    "MyTree.Draw(\"x:z>>h8(10,0,10,10,-2,12)\", \"(4.5<y) & (y<5.5)\", \"colz\")\n",
    "c1.Update()\n",
    "c1.Draw()"
   ]
  },
  {
   "cell_type": "code",
   "execution_count": 68,
   "metadata": {
    "colab": {
     "base_uri": "https://localhost:8080/",
     "height": 889
    },
    "colab_type": "code",
    "executionInfo": {
     "elapsed": 525,
     "status": "ok",
     "timestamp": 1551192913955,
     "user": {
      "displayName": "JOSE DAVID RUIZ ALVAREZ",
      "photoUrl": "https://lh4.googleusercontent.com/-LnBHsMGluzQ/AAAAAAAAAAI/AAAAAAAAB6o/vjRl7O5FS_o/s64/photo.jpg",
      "userId": "05687608758618215160"
     },
     "user_tz": 300
    },
    "id": "AOfAyXWxSC9f",
    "outputId": "111473bf-356f-4262-eae1-cc97fab60abf"
   },
   "outputs": [
    {
     "data": {
      "image/png": "[encoded data removed]",
      "text/plain": [
       "<IPython.core.display.Image object>"
      ]
     },
     "metadata": {},
     "output_type": "display_data"
    }
   ],
   "source": [
    "MyTree.Draw(\"x:y:z>>h9(8,0,10,8,-2,12,8,-2,12)\", \"\")\n",
    "c1.Update()\n",
    "c1.Draw()"
   ]
  },
  {
   "cell_type": "code",
   "execution_count": null,
   "metadata": {
    "colab": {},
    "colab_type": "code",
    "id": "RNjN-I32SO0v"
   },
   "outputs": [],
   "source": []
  },
  {
   "cell_type": "code",
   "execution_count": null,
   "metadata": {},
   "outputs": [],
   "source": []
  },
  {
   "cell_type": "code",
   "execution_count": null,
   "metadata": {},
   "outputs": [],
   "source": []
  }
 ],
 "metadata": {
  "colab": {
   "collapsed_sections": [],
   "name": "TTreeExcercise.ipynb",
   "provenance": [],
   "version": "0.3.2"
  },
  "kernelspec": {
   "display_name": "Python 2",
   "language": "python",
   "name": "python2"
  },
  "language_info": {
   "codemirror_mode": {
    "name": "ipython",
    "version": 2
   },
   "file_extension": ".py",
   "mimetype": "text/x-python",
   "name": "python",
   "nbconvert_exporter": "python",
   "pygments_lexer": "ipython2",
   "version": "2.7.15rc1"
  }
 },
 "nbformat": 4,
 "nbformat_minor": 1
}
